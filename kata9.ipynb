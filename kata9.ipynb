{
 "cells": [
  {
   "cell_type": "markdown",
   "metadata": {},
   "source": [
    "## Ejercicio 1 \n",
    "Trabajar con argumentos en funciones"
   ]
  },
  {
   "cell_type": "code",
   "execution_count": 15,
   "metadata": {},
   "outputs": [
    {
     "name": "stdout",
     "output_type": "stream",
     "text": [
      "Promedio total de los tanques:\n",
      "               67\n",
      "               Cantidad de Helio: 84\n",
      "               Cantidad de Hidrogeno 54\n",
      "               Cantidad de Metano 64\n",
      "               \n"
     ]
    }
   ],
   "source": [
    "def tanques(Helio, Hidrogeno, Metano):\n",
    "    promedio=round((Helio + Hidrogeno + Metano)/3)\n",
    "    return f\"\"\"Promedio total de los tanques:\n",
    "               {promedio}\n",
    "               Cantidad de Helio: {Helio}\n",
    "               Cantidad de Hidrogeno {Hidrogeno}\n",
    "               Cantidad de Metano {Metano}\n",
    "               \"\"\"\n",
    "print(tanques(84, 54, 64))\n",
    "\n",
    "      "
   ]
  },
  {
   "cell_type": "code",
   "execution_count": 17,
   "metadata": {},
   "outputs": [
    {
     "data": {
      "text/plain": [
       "67.33333333333333"
      ]
     },
     "execution_count": 17,
     "metadata": {},
     "output_type": "execute_result"
    }
   ],
   "source": [
    "def promedio(valores):\n",
    "    total=sum(valores)\n",
    "    tanques = len(valores) #Len se usa para saber el numero de argumentos\n",
    "    return total/tanques\n",
    "\n",
    "promedio([84, 54, 64])"
   ]
  },
  {
   "cell_type": "code",
   "execution_count": 18,
   "metadata": {},
   "outputs": [
    {
     "name": "stdout",
     "output_type": "stream",
     "text": [
      " promedio total:\n",
      "              67.33333333333333\n"
     ]
    }
   ],
   "source": [
    "def tanques(Helio, Hidrogeno, Metano):\n",
    "    return f\"\"\" promedio total:\n",
    "              {promedio([Helio, Hidrogeno, Metano])}\"\"\"\n",
    "print(tanques(84, 54, 64))"
   ]
  },
  {
   "cell_type": "markdown",
   "metadata": {},
   "source": [
    "## EJERCICIO 2\n",
    "TRABAJO CON ARGUMENTOS DE PALABRAS CLAVE"
   ]
  },
  {
   "cell_type": "code",
   "execution_count": 20,
   "metadata": {},
   "outputs": [
    {
     "name": "stdout",
     "output_type": "stream",
     "text": [
      "\n",
      "    Hora de preelanzamiento: 13\n",
      "    Tiempo de vuelo: 14\n",
      "    Destino: Marte\n",
      "    Tanque interno: 50000\n",
      "    Tanque Externo 852100\n"
     ]
    }
   ],
   "source": [
    "def mision(time, tiempovuelo, destino, tanqueinterno, tanqueexterno):\n",
    "    return f\"\"\"\n",
    "    Hora de preelanzamiento: {time}\n",
    "    Tiempo de vuelo: {tiempovuelo}\n",
    "    Destino: {destino}\n",
    "    Tanque interno: {tanqueinterno}\n",
    "    Tanque Externo {tanqueexterno}\"\"\"\n",
    "\n",
    "print(mision(13, 14, \"Marte\", 50000, 852100 ))"
   ]
  },
  {
   "cell_type": "code",
   "execution_count": 24,
   "metadata": {},
   "outputs": [
    {
     "name": "stdout",
     "output_type": "stream",
     "text": [
      "\n",
      "    Destino: Marte\n",
      "    Tiempo total de viaje: 237 minutos\n",
      "    Total de galones en los tanques: 904562 galones\n",
      "    \n"
     ]
    }
   ],
   "source": [
    "def mision(destino, *viaje, **tanques):\n",
    "    return f\"\"\"\n",
    "    Destino: {destino}\n",
    "    Tiempo total de viaje: {sum(viaje)} minutos\n",
    "    Total de galones en los tanques: {sum(tanques.values())} galones\n",
    "    \"\"\"\n",
    "\n",
    "print(mision(\"Marte\", 75,87,54,21, interno=50000, externo=854562))"
   ]
  },
  {
   "cell_type": "code",
   "execution_count": 28,
   "metadata": {},
   "outputs": [
    {
     "name": "stdout",
     "output_type": "stream",
     "text": [
      "\n",
      "    Destino: Marte\n",
      "    Total de horas viajadas: 237 minutes\n",
      "    Total reservas: 904562\n",
      "    interno : 50000 galones\n",
      "externo : 854562 galones\n",
      "\n"
     ]
    }
   ],
   "source": [
    "def mision(destino, *minutos, **tanques):\n",
    "    reporte = f\"\"\"\n",
    "    Destino: {destino}\n",
    "    Total de horas viajadas: {sum(minutos)} minutes\n",
    "    Total reservas: {sum(tanques.values())}\n",
    "    \"\"\"\n",
    "    for Nombretanque, galones in tanques.items():\n",
    "        reporte += f\"{Nombretanque} : {galones} galones\\n\"\n",
    "    return reporte\n",
    "\n",
    "print(mision(\"Marte\", 75, 87, 54,21,  interno=50000, externo=854562))"
   ]
  }
 ],
 "metadata": {
  "interpreter": {
   "hash": "9e0e21defcb8e38207790d451b671321895a93cb4ef1c90960a2597e02e49c93"
  },
  "kernelspec": {
   "display_name": "Python 3.7.7 64-bit",
   "language": "python",
   "name": "python3"
  },
  "language_info": {
   "codemirror_mode": {
    "name": "ipython",
    "version": 3
   },
   "file_extension": ".py",
   "mimetype": "text/x-python",
   "name": "python",
   "nbconvert_exporter": "python",
   "pygments_lexer": "ipython3",
   "version": "3.7.7"
  },
  "orig_nbformat": 4
 },
 "nbformat": 4,
 "nbformat_minor": 2
}
